{
 "cells": [
  {
   "cell_type": "markdown",
   "metadata": {
    "graffitiCellId": "id_b9d1hur"
   },
   "source": [
    "<table style=\"width:100%\"><tr>\n",
    "<td> \n",
    "    \n",
    "<b>Technische Universität Dortmund</b>    \n",
    "Department of Bio- and Chemical Engineering\\\n",
    "Laboratory of Process Automation Systems\\\n",
    "Prof. Dr. Sergio Lucia </td>\n",
    "<td>  <img src=\"tudo_logo.png\" style=\"width: 60%;\" align=\"right\"/> </td>\n",
    "</tr>\n",
    "</table>\n",
    "\n",
    "# Juno\n",
    "\n",
    "Interactive exercises with Jupyter Notebooks.\n",
    "***\n",
    "\n",
    "\n",
    "\n",
    "# Polynomial regression\n",
    "\n",
    "In this weeks exercise we are discussing the topic of polynomial regression. Please click on the button below to listen to the introduction.\n"
   ]
  },
  {
   "cell_type": "markdown",
   "metadata": {
    "graffitiCellId": "id_uvsqput"
   },
   "source": [
    "<span class=\"graffiti-highlight graffiti-id_uvsqput-id_5opnj4u\"><i></i><button>Click here to start</button></span>"
   ]
  },
  {
   "cell_type": "markdown",
   "metadata": {
    "graffitiCellId": "id_9gspmve"
   },
   "source": [
    "### Setting up Jupyter Notebook\n",
    "\n",
    "For this exercise we will be working with Python enhanced with a number of packages. In particular we import \n",
    "- **numpy** for arrays and matrix-vector operations\n",
    "- **pyplot** and **matplotlib** for graphics\n",
    "- **scipy.io** to import data\n",
    "- **ipywidgets** for an interactive experience"
   ]
  },
  {
   "cell_type": "markdown",
   "metadata": {
    "graffitiCellId": "id_y9b3qnc"
   },
   "source": [
    "<span class=\"graffiti-highlight graffiti-id_y9b3qnc-id_0eajvpr\"><i></i>How can I execute code?</span>"
   ]
  },
  {
   "cell_type": "code",
   "execution_count": null,
   "metadata": {
    "graffitiCellId": "id_kqkpo18"
   },
   "outputs": [],
   "source": [
    "import numpy as np\n",
    "import matplotlib.pyplot as plt\n",
    "import scipy.io as sio\n",
    "\n",
    "# Configuration of Matplotlib to make plots more readable\n",
    "import matplotlib as mpl\n",
    "mpl.rcParams.update({\n",
    "    'figure.figsize':(8,5),\n",
    "    'font.size': 18\n",
    "})\n",
    "\n",
    "# Widgets\n",
    "import ipywidgets"
   ]
  },
  {
   "cell_type": "markdown",
   "metadata": {
    "graffitiCellId": "id_z72259j"
   },
   "source": [
    "Please also execute the cell below to change the display style of matplotlib to \"notebook\". This allows for interactive graphics (e.g. zooming)."
   ]
  },
  {
   "cell_type": "code",
   "execution_count": null,
   "metadata": {
    "graffitiCellId": "id_4ef3kb4"
   },
   "outputs": [],
   "source": [
    "%matplotlib notebook"
   ]
  },
  {
   "cell_type": "markdown",
   "metadata": {
    "graffitiCellId": "id_byk9umk"
   },
   "source": [
    "## Import and investigate the data"
   ]
  },
  {
   "cell_type": "markdown",
   "metadata": {
    "graffitiCellId": "id_hkjs4q3"
   },
   "source": [
    "We have prepared a dataset for you (attached as a file) which can be imported as follows:"
   ]
  },
  {
   "cell_type": "code",
   "execution_count": null,
   "metadata": {
    "graffitiCellId": "id_aldo3k3"
   },
   "outputs": [],
   "source": [
    "data = sio.loadmat('1d_data.mat')"
   ]
  },
  {
   "cell_type": "markdown",
   "metadata": {
    "graffitiCellId": "id_bqdgtpn"
   },
   "source": [
    "For convenience we take the data from the dictionary and assign it to dedicated variables with the same names:"
   ]
  },
  {
   "cell_type": "code",
   "execution_count": null,
   "metadata": {
    "graffitiCellId": "id_542ml6l"
   },
   "outputs": [],
   "source": [
    "x = data['x']\n",
    "y = data['y']"
   ]
  },
  {
   "cell_type": "markdown",
   "metadata": {
    "graffitiCellId": "id_qfd6l7q"
   },
   "source": [
    "### Task 01: Investigate the data\n",
    "As a first step it is advisible to have a look at what you are dealing with. We want to identify \n",
    "- the **dimensions** of the data (use ```.shape()``` method on x and y)\n",
    "- Visualize the data with pyplot. You will notice that a line graph might not be the best idea."
   ]
  },
  {
   "cell_type": "code",
   "execution_count": null,
   "metadata": {
    "graffitiCellId": "id_ykl8gnw",
    "scrolled": false
   },
   "outputs": [],
   "source": [
    "# 01 - Identify the shape of x and y and print it in a readable form:\n",
    "# Xour code here!\n",
    "# 02 - Create a plot of x over y. Use plt.plot(). Feel free to add axis label, a title etc.\n",
    "# Your code here!\n"
   ]
  },
  {
   "cell_type": "markdown",
   "metadata": {
    "graffitiCellId": "id_pove5f9"
   },
   "source": [
    "<span class=\"graffiti-highlight graffiti-id_pove5f9-id_qc9fn7i\"><i></i><button>Show Solution</button></span>"
   ]
  },
  {
   "cell_type": "markdown",
   "metadata": {
    "graffitiCellId": "id_gtdaxn7"
   },
   "source": [
    "We can clearly recognize a non-linear trend in the data, however, there seems to be some noise and we even have outliers. Next, we want to perform a regression and find a good polynomial fit for the data.\n",
    "Therefore, we assume that the following function:\n",
    "\n",
    "$$\n",
    "\\hat{y} = f(x, p) = p_1 + p_2 \\cdot x + p_3\\cdot x^2 + p_{n+1}\\cdot x^{n} ...\n",
    "$$\n",
    "\n",
    "describes the data well. We also introduce $\\hat{y}$ to denote that these are the approximated values of $y$.\n",
    "The task is now to determine the values of $p_1, p_2, \\dots, p_{n+1}$. Furthermore, it is our choice which degree of polynomial (n-th degree means we have $n$ in $x^n$ as our highest exponent) we decide to fit."
   ]
  },
  {
   "cell_type": "markdown",
   "metadata": {
    "graffitiCellId": "id_lk8r1v5"
   },
   "source": [
    "### <span class=\"graffiti-highlight graffiti-id_lk8r1v5-id_i2ehf68\"><i></i>Least-squares regression</span>\n",
    "\n",
    "The most common approach to this problem is to perform least-squares regression. This simply means that for each data point $(x_k,\\ y_k)$ we demand that the expression:\n",
    "\n",
    "$$\n",
    "l_k(p) = (\\hat{y}_k-y_k)^2 = (f(x_k, p)-y_k)^2 \n",
    "$$\n",
    "\n",
    "becomes as small as possible by choosing appropriate values for our parameters $p$. Squaring the difference has two effects: First, we ensure that the value is always greater or equal than zero. And second, larger deviations are penalized more than smaller deviations. \n",
    "\n",
    "Next we have to take into account that we have $m$ data points. For this we simply add all costs (the expression from above):\n",
    "\n",
    "$$\n",
    "J(p) = \\sum_{k=1}^m l_k(p) = \\sum_{k=1}^m (f(x_k, p)-y_k)^2 \n",
    "$$\n",
    "\n",
    "Note that $J(p)$ is only a function of $p$, as $x$ and $y$ are given data points and cannot be altered."
   ]
  },
  {
   "cell_type": "markdown",
   "metadata": {
    "graffitiCellId": "id_lhxcn3j"
   },
   "source": [
    "### <span class=\"graffiti-highlight graffiti-id_lhxcn3j-id_9421x60\"><i></i>Solving the least squares problem</span>\n",
    "\n",
    "How do we now minimize our least squares function:\n",
    "\n",
    "$$\n",
    "J(p) = \\sum_{k=1}^m l_k(p) = \\sum_{k=1}^m (f(x_k, p)-y_k)^2 \n",
    "$$\n",
    "\n",
    "which is depending on multiple variables ($p = p_1, p_2, ...$).\n",
    "\n",
    "We reformulate the equation into a more convenient expression to determine the gradient, by starting with the original regression equation (for a concrete example of order 3):\n",
    "\n",
    "$$\n",
    "\\hat{y} = f(x, p) = p_1 + p_2 \\cdot x + p_3\\cdot x^2 + p_4\\cdot x^3\n",
    "$$\n",
    "\n",
    "Let's denote $p = \\begin{bmatrix}p_1\\\\ p_2\\\\ p_3 \\\\ p_4\\end{bmatrix}$ and \n",
    "$X = \\begin{bmatrix}1& x_1& x_1^2& x_1^3\\\\ 1& x_2& x_2^2& x_2^3 \\\\ \\vdots & \\vdots & \\vdots & \\vdots\\\\ 1& x_m& x_m^2& x_m^3 \\end{bmatrix}$\n",
    "\n",
    "See for yourself that multiplying $X$ and $p$ will give use the vector $\\hat{y}$. So we can write:\n",
    "\n",
    "$$\\hat{y} = Xp$$\n"
   ]
  },
  {
   "cell_type": "markdown",
   "metadata": {
    "graffitiCellId": "id_1wjrl0c"
   },
   "source": [
    "### Task 03\n",
    "Create a function that returns $X$ for a user defined order of polynomial regression. The order determines the number of columns in $X$.\n",
    "\n",
    "**Hints:**\n",
    "- Have a look at ```np.concatenate```. You can Google it or use ```help(np.concatenate)```. After you have typed a function you can also use \"shift+Tab\" to see context help.\n",
    "- Remember list comprehensions from above?\n",
    "- What is $x^0$?"
   ]
  },
  {
   "cell_type": "code",
   "execution_count": null,
   "metadata": {
    "graffitiCellId": "id_vsdk2gh",
    "scrolled": true
   },
   "outputs": [],
   "source": [
    "def X_fun(x,order):\n",
    "    # Write your code here!\n",
    "    return None"
   ]
  },
  {
   "cell_type": "markdown",
   "metadata": {
    "graffitiCellId": "id_af3dlnj"
   },
   "source": [
    "<span class=\"graffiti-highlight graffiti-id_af3dlnj-id_wh25arv\"><i></i><button>Show Solution</button></span>"
   ]
  },
  {
   "cell_type": "markdown",
   "metadata": {
    "graffitiCellId": "id_fl9pj4g"
   },
   "source": [
    "<span class=\"graffiti-highlight graffiti-id_fl9pj4g-id_dg6e1mo\"><i></i>Understanding the code.</span>"
   ]
  },
  {
   "cell_type": "markdown",
   "metadata": {
    "graffitiCellId": "id_oq7u477"
   },
   "source": [
    "### <span class=\"graffiti-highlight graffiti-id_oq7u477-id_ft8frt7\"><i></i>Reformulating the regression problem</span>"
   ]
  },
  {
   "cell_type": "markdown",
   "metadata": {
    "graffitiCellId": "id_5mm26tt"
   },
   "source": [
    "Now that we can conveniently evaluate our regression function as:\n",
    "\n",
    "$$\n",
    "\\hat y = f(x) = Xp,\n",
    "$$\n",
    "\n",
    "we need to next tackle our cost function:\n",
    "\n",
    "$$\n",
    "J(p) = \\sum_{k=1}^m (\\hat y_k -y_k)^2,\n",
    "$$\n",
    "\n",
    "which can be reformulated as:\n",
    "\n",
    "$$ J(p) = (\\hat{y}-y)^T (\\hat{y}-y) $$\n",
    "\n",
    "To understand that this is an equal representation it helps to write out the matrix vector multiplication:\n",
    "\n",
    "$$(\\hat{y}-y)^T (\\hat{y}-y) =\\begin{bmatrix}\\hat{y}_1-y_1 & \\hat{y}_2-y_2 & \\dots & \\hat{y}_m-y_m\\end{bmatrix} \\begin{bmatrix}\\hat{y}_1-y_1\\\\ \\hat{y}_2-y_2 \\\\ \\vdots \\\\ \\hat{y}_m-y_m\\end{bmatrix} = (\\hat{y}_1-y_1)^2 + \\dots +(\\hat{y}_m-y_m)^2$$\n",
    "\n",
    "All you need to know about is matrix multiplication (row times columns ... ) and that the superscript \"T\" stands for **transposed** and means that a vector/matrix switches its rows and columns."
   ]
  },
  {
   "cell_type": "markdown",
   "metadata": {
    "graffitiCellId": "id_xs49qr5"
   },
   "source": [
    "We now subustitute $\\hat{y}$ in $J(p)$ with our expression from above $\\hat{y}= Xp$:\n",
    "\n",
    "$$ J(p) = (Xp-y)^T (Xp-y) $$\n",
    "\n",
    "***\n",
    "### Task 04:\n",
    "Expand the expression for $J(p)$ using the following rules:\n",
    "- $(A+B)^T = A^T + B^T$\n",
    "- $(AB)^T = B^TA^T$\n",
    "\n",
    "\n",
    "**Solution 04**\n",
    "\n",
    "<video controls src=\"videos/Task04.mp4\" width=\"80%\"/>\n",
    "\n",
    "***"
   ]
  },
  {
   "cell_type": "markdown",
   "metadata": {
    "graffitiCellId": "id_trj2amn"
   },
   "source": [
    "From this point we can use the known gradient rule to find the minima of our function with respect to $p$. Our condition is:\n",
    "\n",
    "$$\\nabla_p J(p) = 0 $$\n",
    "\n",
    "\n",
    "### Task 05:\n",
    "Use matrix differentiation to determine an expression for $\\nabla_p J(p)$.\n",
    "The following rules (without proof) should be used:\n",
    "- $\\nabla_x (Ax) = A $\n",
    "- $\\nabla_x (x^T A) = A^T $\n",
    "- $\\nabla_x (x^T A x) = x^T(A+A^T)$\n",
    "- $A^T=A$,  for symmetric matrices\n",
    "- $A^T A$, yields always a symmetric matrix\n",
    "\n",
    "The rules from above are also still valid. Note that $\\nabla_x$ just clarifies that we derive with respect to $x$.\n",
    "\n",
    "\n",
    "**Solution 05**\n",
    "\n",
    "<video controls src=\"videos/Task05.mp4\" width=\"80%\"/>\n"
   ]
  },
  {
   "cell_type": "markdown",
   "metadata": {
    "graffitiCellId": "id_whiwxwj"
   },
   "source": [
    "Your final expression should look like this:\n",
    "\n",
    "$$ 2 p^T(X^T X)-2y^TX = 0 $$\n",
    "\n",
    "With the definition of the \"inverse matrix\":\n",
    "\n",
    "$$ A^{-1} A = I $$\n",
    "\n",
    "where $I$ is the identy matrix, a matrix with only ones on the diagonal and zeros everywhere else. Multiplication with the identity is a neutral operation such as multiplying by one. You should therefore be able to derive the final expression.\n",
    "\n",
    "\n",
    "### Task 06:\n",
    "Reformulate the expression above and derive:\n",
    "\n",
    "$$ p^T = y^T X (X^TX)^{-1} $$\n",
    "\n",
    "\n",
    "**Solution 06**\n",
    "\n",
    "<video controls src=\"videos/Task06.mp4\" width=\"80%\"/>"
   ]
  },
  {
   "cell_type": "markdown",
   "metadata": {
    "graffitiCellId": "id_o6y16ca"
   },
   "source": [
    "### Task 07:\n",
    "Using the previously defined ```X_fun```, and the derived expression for $p^T$, write a function that takes as input the order of the polynomial regression, the data vector x and y and returns the parameter vector $p$ (not $p^T$).\n",
    "\n",
    "Note that the ``@`` symbol can be used for matrix multiplication. The ``*`` symbol will execute an [elementwise multiplication](https://scipy-lectures.org/intro/numpy/operations.html#elementwise-operations)."
   ]
  },
  {
   "cell_type": "code",
   "execution_count": null,
   "metadata": {
    "graffitiCellId": "id_z80w90w"
   },
   "outputs": [],
   "source": [
    "def poly_regression(x,y, order):\n",
    "    # Write your code here.\n",
    "    return None"
   ]
  },
  {
   "cell_type": "markdown",
   "metadata": {
    "graffitiCellId": "id_9upn7r1"
   },
   "source": [
    "<span class=\"graffiti-highlight graffiti-id_9upn7r1-id_kx91mfa\"><i></i><button>Show Solution</button></span>"
   ]
  },
  {
   "cell_type": "markdown",
   "metadata": {
    "graffitiCellId": "id_phqorwq"
   },
   "source": [
    "### Task 08: Evaluate the regression function\n",
    "\n",
    "Use the function ``poly_regression`` to determine p for a model order of $$n=4$$\n",
    "\n",
    "With the parameter vector $p$, evaluate the regression function:\n",
    "\n",
    "$$\n",
    "\\hat{y} = f(x, p) = p_1 + p_2 \\cdot x + p_3\\cdot x^2 + p_4\\cdot x^3\n",
    "$$\n",
    "\n",
    "We introduce a new array of x values at which we want to evaluate our regression function ``x_reg``.\n",
    "Write your code to compute $\\hat y$ for the order $n=3$. We have prepared a figure below to see check your results."
   ]
  },
  {
   "cell_type": "code",
   "execution_count": null,
   "metadata": {
    "graffitiCellId": "id_uhmrhh4"
   },
   "outputs": [],
   "source": [
    "x_reg = np.linspace(-3,6, 100).reshape(-1,1)"
   ]
  },
  {
   "cell_type": "code",
   "execution_count": null,
   "metadata": {
    "graffitiCellId": "id_7zotgsh"
   },
   "outputs": [],
   "source": [
    "# Write your code here."
   ]
  },
  {
   "cell_type": "markdown",
   "metadata": {
    "graffitiCellId": "id_s97cqmv"
   },
   "source": [
    "<span class=\"graffiti-highlight graffiti-id_s97cqmv-id_l0y54wt\"><i></i><button>Show Solution</button></span>"
   ]
  },
  {
   "cell_type": "code",
   "execution_count": null,
   "metadata": {
    "graffitiCellId": "id_b3p9mja",
    "scrolled": false
   },
   "outputs": [],
   "source": [
    "fig, ax = plt.subplots()\n",
    "\n",
    "ax.plot(x,y, 'x')\n",
    "ax.plot(x_reg, y_hat)"
   ]
  },
  {
   "cell_type": "markdown",
   "metadata": {
    "graffitiCellId": "id_3qea3sb"
   },
   "source": [
    "### Model order\n",
    "Finally, we want to investigate the effect of the model order. In general you can not expect to have the perfect order on your first try and this is a parameter you might want to tune. Here we have prepared a simple widget for you to change ``order`` with a slider from 1 to 15.\n",
    "\n",
    "Please execute the next code cell and play with the slider and the widget to experience the effect of the model order."
   ]
  },
  {
   "cell_type": "code",
   "execution_count": null,
   "metadata": {
    "graffitiCellId": "id_1o7bub0",
    "scrolled": false
   },
   "outputs": [],
   "source": [
    "fig, ax = plt.subplots()\n",
    "\n",
    "def plot_anim(order=1):\n",
    "    ax.cla()\n",
    "    X = X_fun(x_reg, order=order)\n",
    "    p = poly_regression(x,y,order=order)\n",
    "    y_hat = X@p\n",
    "\n",
    "    ax.plot(x,y, 'x')\n",
    "    ax.plot(x_reg, y_hat)\n",
    "    ax.set_ylim(-18,12)\n",
    "    \n",
    "    \n",
    "ipywidgets.interact(plot_anim, \n",
    "        order = ipywidgets.IntSlider(value=1,min=1,max=15,step=1),\n",
    "        )\n",
    "\n",
    "plt.show()"
   ]
  },
  {
   "cell_type": "markdown",
   "metadata": {
    "graffitiCellId": "id_0u0cd6m"
   },
   "source": [
    "### Congratulations! You have finished the assignment."
   ]
  }
 ],
 "metadata": {
  "graffiti": {
   "firstAuthorId": "dev",
   "id": "id_77olzdi",
   "language": "EN"
  },
  "kernelspec": {
   "display_name": "Python 3",
   "language": "python",
   "name": "python3"
  },
  "language_info": {
   "codemirror_mode": {
    "name": "ipython",
    "version": 3
   },
   "file_extension": ".py",
   "mimetype": "text/x-python",
   "name": "python",
   "nbconvert_exporter": "python",
   "pygments_lexer": "ipython3",
   "version": "3.7.6"
  },
  "toc": {
   "base_numbering": 1,
   "nav_menu": {},
   "number_sections": true,
   "sideBar": true,
   "skip_h1_title": false,
   "title_cell": "Table of Contents",
   "title_sidebar": "Contents",
   "toc_cell": false,
   "toc_position": {},
   "toc_section_display": true,
   "toc_window_display": false
  },
  "varInspector": {
   "cols": {
    "lenName": 16,
    "lenType": 16,
    "lenVar": 40
   },
   "kernels_config": {
    "python": {
     "delete_cmd_postfix": "",
     "delete_cmd_prefix": "del ",
     "library": "var_list.py",
     "varRefreshCmd": "print(var_dic_list())"
    },
    "r": {
     "delete_cmd_postfix": ") ",
     "delete_cmd_prefix": "rm(",
     "library": "var_list.r",
     "varRefreshCmd": "cat(var_dic_list()) "
    }
   },
   "types_to_exclude": [
    "module",
    "function",
    "builtin_function_or_method",
    "instance",
    "_Feature"
   ],
   "window_display": false
  }
 },
 "nbformat": 4,
 "nbformat_minor": 2
}
